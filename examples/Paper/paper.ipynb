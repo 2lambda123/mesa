{
 "cells": [
  {
   "cell_type": "markdown",
   "metadata": {},
   "source": [
    "# Boltzmann Wealth Model"
   ]
  },
  {
   "cell_type": "markdown",
   "metadata": {},
   "source": [
    "# Basic Overview"
   ]
  },
  {
   "cell_type": "code",
   "execution_count": null,
   "metadata": {
    "collapsed": true
   },
   "outputs": [],
   "source": [
    "from mesa import Model, Agent"
   ]
  },
  {
   "cell_type": "code",
   "execution_count": null,
   "metadata": {
    "collapsed": false
   },
   "outputs": [],
   "source": [
    "class MoneyAgent(Agent):\n",
    "    \"\"\" An agent with fixed initial wealth.\"\"\"\n",
    "    def __init__(self, unique_id):\n",
    "        # Each agent should have a unique identifier, stored in the unique_id field.\n",
    "        self.unique_id = unique_id\n",
    "        self.wealth = 1"
   ]
  },
  {
   "cell_type": "code",
   "execution_count": null,
   "metadata": {
    "collapsed": false
   },
   "outputs": [],
   "source": [
    "class MoneyModel(Model):\n",
    "    \"\"\"A model with some number of agents.\"\"\"\n",
    "    def __init__(self, N):\n",
    "        self.num_agents = N\n",
    "        # The scheduler will be added here\n",
    "        self.create_agents()\n",
    "        \n",
    "    def create_agents(self):\n",
    "        \"\"\"Method to create all the agents.\"\"\"\n",
    "        for i in range(self.num_agents):\n",
    "            a = MoneyAgent(i)\n",
    "            # Now what? See below."
   ]
  },
  {
   "cell_type": "code",
   "execution_count": null,
   "metadata": {
    "collapsed": true
   },
   "outputs": [],
   "source": [
    "money_model = MoneyModel(10)\n",
    "money_model.create_agents()"
   ]
  },
  {
   "cell_type": "markdown",
   "metadata": {},
   "source": [
    "# Scheduler"
   ]
  },
  {
   "cell_type": "code",
   "execution_count": null,
   "metadata": {
    "collapsed": true
   },
   "outputs": [],
   "source": [
    "import random\n",
    "\n",
    "from mesa import Model, Agent\n",
    "from mesa.time import RandomActivation\n",
    "\n",
    "\n",
    "class MoneyAgent(Agent):\n",
    "    \"\"\" An agent with fixed initial wealth.\"\"\"\n",
    "    def __init__(self, unique_id):\n",
    "        self.unique_id = unique_id\n",
    "        self.wealth = 1\n",
    "\n",
    "    def step(self, model):\n",
    "        \"\"\"Give money to another agent.\"\"\"\n",
    "        if self.wealth > 0:\n",
    "            # Pick a random agent\n",
    "            other = random.choice(model.schedule.agents)\n",
    "            # Give them 1 unit money\n",
    "            other.wealth += 1\n",
    "            self.wealth -= 1\n",
    "\n",
    "\n",
    "class MoneyModel(Model):\n",
    "    \"\"\"A model with some number of agents.\"\"\"\n",
    "    def __init__(self, N):\n",
    "        self.num_agents = N\n",
    "        # Adding the scheduler:\n",
    "        # Scheduler needs to be created before agents do\n",
    "        # Scheduler objects are instantiated with their model object,\n",
    "        # which they then pass to the agents at each step.\n",
    "        self.schedule = RandomActivation(self)\n",
    "        self.create_agents()\n",
    "\n",
    "    def create_agents(self):\n",
    "        \"\"\"Method to create all the agents.\"\"\"\n",
    "        for i in range(self.num_agents):\n",
    "            a = MoneyAgent(i)\n",
    "            self.schedule.add(a)\n",
    "\n",
    "    def step(self):\n",
    "        # The scheduler's step method activates the step methods of all the\n",
    "        # agents that have been added to it, in this case in random order.\n",
    "        self.schedule.step()\n",
    "\n",
    "    def run_model(self, steps):\n",
    "        # Because the model has no inherent end conditions,\n",
    "        # the user must specify how many steps to run it for.\n",
    "        for i in range(steps):\n",
    "            self.step()\n"
   ]
  },
  {
   "cell_type": "code",
   "execution_count": null,
   "metadata": {
    "collapsed": false
   },
   "outputs": [],
   "source": [
    "money_model = MoneyModel(10)\n",
    "money_model.create_agents()\n",
    "money_model.run_model(5)"
   ]
  },
  {
   "cell_type": "markdown",
   "metadata": {},
   "source": [
    "# Space"
   ]
  },
  {
   "cell_type": "code",
   "execution_count": null,
   "metadata": {
    "collapsed": true
   },
   "outputs": [],
   "source": [
    "import random\n",
    "\n",
    "from mesa import Model, Agent\n",
    "from mesa.time import RandomActivation\n",
    "from mesa.space import MultiGrid\n",
    "\n",
    "\n",
    "class MoneyAgent(Agent):\n",
    "    \"\"\" An agent with fixed initial wealth.\"\"\"\n",
    "    def __init__(self, unique_id):\n",
    "        self.unique_id = unique_id\n",
    "        self.wealth = 1\n",
    "\n",
    "    def step(self, model):\n",
    "        \"\"\"Give money to another agent.\"\"\"\n",
    "        if self.wealth > 0:\n",
    "            # Pick a random agent\n",
    "            other = random.choice(model.schedule.agents)\n",
    "            # Give them 1 unit money\n",
    "            other.wealth += 1\n",
    "            self.wealth -= 1\n",
    "\n",
    "    def move(self, model):\n",
    "        \"\"\"Take a random step.\"\"\"\n",
    "        grid = model.grid\n",
    "        x, y = self.pos\n",
    "        # The get_neighborhood method returns a list of coordinate tuples for\n",
    "        # the appropriate neighbors of the given coordinates. In this case,\n",
    "        # it's getting the Moore neighborhood (including diagonals) and\n",
    "        # includes the center cell. The agent decides where to move by choosing\n",
    "        # one of those tuples at random. This is a good way of handling random\n",
    "        # moves, since it still works for agents on an edge of a non-toroidal\n",
    "        # grid, or if the grid itself is hexagonal.\n",
    "        possible_steps = grid.get_neighborhood(\n",
    "            x, y, moore=True, include_center=True)\n",
    "        choice = random.choice(possible_steps)\n",
    "        # the move_agent method works like place_agent, but removes the agent\n",
    "        # from its current location before placing it in its new one.\n",
    "        grid.move_agent(self, choice)\n",
    "\n",
    "    def give_money(self, model):\n",
    "        grid = model.grid\n",
    "        pos = [self.pos]\n",
    "        # This is a helper method which returns the contents of the entire list\n",
    "        # of cell tuples provided. It's not strictly necessary here; the\n",
    "        # alternative would be: x, y = self.pos; others = grid[y][x]\n",
    "        # (note that grids are indexed y-first).\n",
    "        others = grid.get_cell_list_contents(pos)\n",
    "        if len(others) > 1:\n",
    "            other = random.choice(others)\n",
    "            other.wealth += 1\n",
    "            self.wealth -= 1\n",
    "\n",
    "\n",
    "class MoneyModel(Model):\n",
    "    \"\"\"A model with some number of agents.\"\"\"\n",
    "    def __init__(self, N, width, height, torus):\n",
    "        # The arguments needed to create a new grid are its\n",
    "        # width, height, and a boolean for whether it is a torus or not.\n",
    "        self.grid = MultiGrid(height, width, torus)\n",
    "        self.num_agents = N\n",
    "        self.schedule = RandomActivation(self)\n",
    "        self.create_agents()\n",
    "\n",
    "    def create_agents(self):\n",
    "        \"\"\"Method to create all the agents.\"\"\"\n",
    "        for i in range(self.num_agents):\n",
    "            a = MoneyAgent(i)\n",
    "            self.schedule.add(a)\n",
    "            x = random.randrange(self.grid.width)\n",
    "            y = random.randrange(self.grid.width)\n",
    "            # The place_agent method places the given object in the grid cell\n",
    "            # specified by the (x, y) tuple, and assigns that tuple to the\n",
    "            # agent's pos property.\n",
    "            self.grid.place_agent(a, (x, y))\n",
    "\n",
    "    def step(self):\n",
    "        # The scheduler's step method activates the step methods of all the\n",
    "        # agents that have been added to it, in this case in random order.\n",
    "        self.schedule.step()\n",
    "\n",
    "    def run_model(self, steps):\n",
    "        # Because the model has no inherent end conditions,\n",
    "        # the user must specify how many steps to run it for.\n",
    "        for i in range(steps):\n",
    "            self.step()\n"
   ]
  },
  {
   "cell_type": "code",
   "execution_count": null,
   "metadata": {
    "collapsed": false
   },
   "outputs": [],
   "source": [
    "money_model = MoneyModel(N=100, width=50, height=50, torus=True)\n",
    "money_model.create_agents()\n",
    "money_model.run_model(50)"
   ]
  },
  {
   "cell_type": "code",
   "execution_count": null,
   "metadata": {
    "collapsed": false
   },
   "outputs": [],
   "source": [
    "import numpy as np\n",
    "import matplotlib.pyplot as plt\n",
    "%matplotlib inline\n",
    "\n",
    "wealth_grid = np.zeros((money_model.grid.width, money_model.grid.height))\n",
    "\n",
    "for cell in money_model.grid.coord_iter():\n",
    "    cell_content, x, y = cell\n",
    "    cell_wealth = sum(a.wealth for a in cell_content)\n",
    "    wealth_grid[y][x] = cell_wealth\n",
    "    \n",
    "plt.imshow(wealth_grid, interpolation='nearest')\n",
    "plt.show()"
   ]
  },
  {
   "cell_type": "markdown",
   "metadata": {
    "collapsed": true
   },
   "source": [
    "# Data Collection\n",
    "\n",
    "generic DataCollector class, which can store and export data from most models without needing to be subclassed.\n",
    "\n",
    "The data collector stores three categories of data: model-level variables, agent-level variables, and tables which are a catch-all for everything else.\n",
    "\n",
    "Internally, the data collector stores all variables and tables in Python's standard dictionaries and lists. This reduces the need for external dependencies, and allows the data to be easily exported to JSON or CSV. However, one of the goals of Mesa is facilitating integration with Python's larger scientific and data-analysis ecosystems, and thus the data collector also includes methods for exporting the collected data to pandas data frames. This allows rapid, interactive processing of the data, easy charting, and access to the full range of statistical and machine-learning tools that are compatible with pandas.\n",
    "\n",
    "**Since data is not written out to a file, large simulations cannot be run yet.  A way to append values to a external CSV is being developed so data does not need to be persisted in memory**"
   ]
  },
  {
   "cell_type": "markdown",
   "metadata": {},
   "source": [
    "```python\n",
    "\n",
    "from mesa.datacollector import DataCollector\n",
    "\n",
    "class MoneyModel(Model):\n",
    "\n",
    "  def __init__(self, N):\n",
    "    # ... everything above\n",
    "    ar = {\"Wealth\": lambda a: a.wealth}\n",
    "    self.dc = DataCollector(agent_reporters=ar)\n",
    "\n",
    "  def step(self):\n",
    "    self.dc.collect(self)\n",
    "    self.schedule.step()\n",
    "```"
   ]
  },
  {
   "cell_type": "code",
   "execution_count": null,
   "metadata": {
    "collapsed": false
   },
   "outputs": [],
   "source": [
    "import random\n",
    "\n",
    "from mesa import Model, Agent\n",
    "from mesa.time import RandomActivation\n",
    "from mesa.space import MultiGrid\n",
    "from mesa.datacollection import DataCollector ############################\n",
    "\n",
    "\n",
    "class MoneyAgent(Agent):\n",
    "    \"\"\" An agent with fixed initial wealth.\"\"\"\n",
    "    def __init__(self, unique_id):\n",
    "        self.unique_id = unique_id\n",
    "        self.wealth = 1\n",
    "\n",
    "    def step(self, model):\n",
    "        \"\"\"Give money to another agent.\"\"\"\n",
    "        if self.wealth > 0:\n",
    "            # Pick a random agent\n",
    "            other = random.choice(model.schedule.agents)\n",
    "            # Give them 1 unit money\n",
    "            other.wealth += 1\n",
    "            self.wealth -= 1\n",
    "\n",
    "    def move(self, model):\n",
    "        \"\"\"Take a random step.\"\"\"\n",
    "        grid = model.grid\n",
    "        x, y = self.pos\n",
    "        # The get_neighborhood method returns a list of coordinate tuples for\n",
    "        # the appropriate neighbors of the given coordinates. In this case,\n",
    "        # it's getting the Moore neighborhood (including diagonals) and\n",
    "        # includes the center cell. The agent decides where to move by choosing\n",
    "        # one of those tuples at random. This is a good way of handling random\n",
    "        # moves, since it still works for agents on an edge of a non-toroidal\n",
    "        # grid, or if the grid itself is hexagonal.\n",
    "        possible_steps = grid.get_neighborhood(\n",
    "            x, y, moore=True, include_center=True)\n",
    "        choice = random.choice(possible_steps)\n",
    "        # the move_agent method works like place_agent, but removes the agent\n",
    "        # from its current location before placing it in its new one.\n",
    "        grid.move_agent(self, choice)\n",
    "\n",
    "    def give_money(self, model):\n",
    "        grid = model.grid\n",
    "        pos = [self.pos]\n",
    "        # This is a helper method which returns the contents of the entire list\n",
    "        # of cell tuples provided. It's not strictly necessary here; the\n",
    "        # alternative would be: x, y = self.pos; others = grid[y][x]\n",
    "        # (note that grids are indexed y-first).\n",
    "        others = grid.get_cell_list_contents(pos)\n",
    "        if len(others) > 1:\n",
    "            other = random.choice(others)\n",
    "            other.wealth += 1\n",
    "            self.wealth -= 1\n",
    "\n",
    "\n",
    "class MoneyModel(Model):\n",
    "    \"\"\"A model with some number of agents.\"\"\"\n",
    "    def __init__(self, N, width, height, torus):\n",
    "        # The arguments needed to create a new grid are its\n",
    "        # width, height, and a boolean for whether it is a torus or not.\n",
    "        self.grid = MultiGrid(height, width, torus)\n",
    "        self.num_agents = N\n",
    "        self.schedule = RandomActivation(self)\n",
    "        self.create_agents()\n",
    "        ar = {\"Wealth\": lambda a: a.wealth}\n",
    "        self.dc = DataCollector(agent_reporters=ar)\n",
    "\n",
    "    def create_agents(self):\n",
    "        \"\"\"Method to create all the agents.\"\"\"\n",
    "        for i in range(self.num_agents):\n",
    "            a = MoneyAgent(i)\n",
    "            self.schedule.add(a)\n",
    "            x = random.randrange(self.grid.width)\n",
    "            y = random.randrange(self.grid.width)\n",
    "            # The place_agent method places the given object in the grid cell\n",
    "            # specified by the (x, y) tuple, and assigns that tuple to the\n",
    "            # agent's pos property.\n",
    "            self.grid.place_agent(a, (x, y))\n",
    "\n",
    "    def step(self):\n",
    "        # The scheduler's step method activates the step methods of all the\n",
    "        # agents that have been added to it, in this case in random order.\n",
    "        self.schedule.step()\n",
    "        self.dc.collect(self)\n",
    "        self.schedule.step()\n",
    "\n",
    "    def run_model(self, steps):\n",
    "        # Because the model has no inherent end conditions,\n",
    "        # the user must specify how many steps to run it for.\n",
    "        for i in range(steps):\n",
    "            self.step()\n"
   ]
  },
  {
   "cell_type": "code",
   "execution_count": null,
   "metadata": {
    "collapsed": false
   },
   "outputs": [],
   "source": [
    "# Create a model with 100 agents\n",
    "model = MoneyModel(100, 10, 10, True) ###########################\n",
    "# Run it for 1,000 steps:\n",
    "model.run_model(1000)\n",
    "# Get the data as a DataFrame\n",
    "wealth_history = model.dc.get_agent_vars_dataframe()\n",
    "# wealth_history indexed on Step and AgentID, and...\n",
    "# ...has Wealth as one data column\n",
    "wealth_history.reset_index(inplace=True)\n",
    "# Plot a histogram of final wealth\n",
    "wealth_history[wealth_history.Step==999].\\\n",
    "  Wealth.hist(bins=range(10))"
   ]
  },
  {
   "cell_type": "markdown",
   "metadata": {},
   "source": [
    "# Batch Runner\n",
    "\n",
    "Since most ABMs are stochastic, a single model run gives us only one particular realization of the process the model describes. Furthermore, the questions we want to use ABMs to answer are often about how a particular parameter drives the behavior of the entire system -- requiring multiple model runs with different parameter values. In order to facilitate this, Mesa provides the BatchRunner class. Like the DataCollector, it does not need to be subclassed in order to conduct parameter sweeps on most models."
   ]
  },
  {
   "cell_type": "code",
   "execution_count": null,
   "metadata": {
    "collapsed": false
   },
   "outputs": [],
   "source": [
    "param_values = {\"N\": 100,\n",
    "                \"starting_wealth\": range(1,10)}\n",
    "model_reporter={\"Gini\": get_gini}\n",
    "batch = BatchRunner(MoneyModel, param_values,\n",
    "                    10, 1000, model_reporter)\n",
    "batch.run_all()\n",
    "out = batch.get_model_vars_dataframe()\n",
    "plt.scatter(df.starting_wealth, df.Gini)"
   ]
  },
  {
   "cell_type": "code",
   "execution_count": null,
   "metadata": {
    "collapsed": true
   },
   "outputs": [],
   "source": []
  }
 ],
 "metadata": {
  "kernelspec": {
   "display_name": "Python 3",
   "language": "python",
   "name": "python3"
  },
  "language_info": {
   "codemirror_mode": {
    "name": "ipython",
    "version": 3
   },
   "file_extension": ".py",
   "mimetype": "text/x-python",
   "name": "python",
   "nbconvert_exporter": "python",
   "pygments_lexer": "ipython3",
   "version": "3.4.3"
  }
 },
 "nbformat": 4,
 "nbformat_minor": 0
}
