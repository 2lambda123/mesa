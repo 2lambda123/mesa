{
 "cells": [
  {
   "cell_type": "code",
   "execution_count": 1,
   "metadata": {
    "collapsed": true
   },
   "outputs": [],
   "source": [
    "from flockers import *\n",
    "import numpy as np\n",
    "import matplotlib.pyplot as plt\n",
    "%matplotlib inline"
   ]
  },
  {
   "cell_type": "code",
   "execution_count": 2,
   "metadata": {
    "collapsed": true
   },
   "outputs": [],
   "source": [
    "def draw_boids(model):\n",
    "    x_vals = []\n",
    "    y_vals = []\n",
    "    for boid in model.schedule.agents:\n",
    "        x, y = boid.pos\n",
    "        x_vals.append(x)\n",
    "        y_vals.append(y)\n",
    "    fig = plt.figure(figsize=(10,10))\n",
    "    ax = fig.add_subplot(111)\n",
    "    ax.scatter(x_vals, y_vals)"
   ]
  },
  {
   "cell_type": "code",
   "execution_count": 3,
   "metadata": {
    "collapsed": false
   },
   "outputs": [],
   "source": [
    "model = BoidModel(100, 100, 100, 5, 1)"
   ]
  },
  {
   "cell_type": "code",
   "execution_count": 4,
   "metadata": {
    "collapsed": false
   },
   "outputs": [],
   "source": [
    "for i in range(50):\n",
    "    model.step()"
   ]
  },
  {
   "cell_type": "code",
   "execution_count": 5,
   "metadata": {
    "collapsed": false
   },
   "outputs": [
    {
     "data": {
      "image/png": "[encoded data removed]",
      "text/plain": [
       "<matplotlib.figure.Figure at 0x1080a5d68>"
      ]
     },
     "metadata": {},
     "output_type": "display_data"
    }
   ],
   "source": [
    "draw_boids(model)"
   ]
  },
  {
   "cell_type": "code",
   "execution_count": 6,
   "metadata": {
    "collapsed": false
   },
   "outputs": [
    {
     "name": "stdout",
     "output_type": "stream",
     "text": [
      "8159.64483035\n",
      "8736.75148474\n",
      "9952.19166798\n",
      "9312.23382318\n",
      "9486.98723443\n",
      "11418.8850751\n",
      "14344.9608741\n",
      "9484.26154082\n",
      "10588.8811532\n",
      "11955.7134222\n",
      "8124.06345703\n",
      "10790.3457088\n",
      "7897.91249673\n",
      "7001.79213191\n",
      "10003.5333343\n",
      "8691.89325829\n",
      "10331.0947424\n",
      "11343.4864529\n",
      "8665.87971697\n",
      "8527.77912521\n",
      "12250.0870959\n",
      "9113.46773919\n",
      "11026.4493634\n",
      "11331.1077209\n",
      "9030.3069808\n",
      "9063.02410964\n",
      "8040.93779097\n",
      "11048.0372237\n",
      "9966.85961555\n",
      "11781.697026\n",
      "8285.48208529\n",
      "8179.9172422\n",
      "11872.0327163\n",
      "9357.47954578\n",
      "10636.3741564\n",
      "9617.00748375\n",
      "11139.6016621\n",
      "8742.67503732\n",
      "7946.51021803\n",
      "12831.5935014\n",
      "10929.9614783\n",
      "9795.00992307\n",
      "9759.52209093\n",
      "9846.69661851\n",
      "12675.7395569\n",
      "9513.11627024\n",
      "8400.38868896\n",
      "7163.98053251\n",
      "10402.7724349\n",
      "12633.9605834\n",
      "9500.34777481\n",
      "10479.3040597\n",
      "9782.3703647\n",
      "9128.83558555\n",
      "8631.25338342\n",
      "10313.7137622\n",
      "7761.03828268\n",
      "8946.12197845\n",
      "8462.15108953\n",
      "11873.7533291\n",
      "10872.5802702\n",
      "8432.2613803\n",
      "10385.9226957\n",
      "12840.3068907\n",
      "10066.8597839\n",
      "10516.0050216\n",
      "12577.923378\n",
      "7344.67164772\n",
      "12555.2142563\n",
      "11058.6747269\n",
      "11213.3415427\n",
      "8428.26289477\n",
      "12060.9192867\n",
      "10919.6245448\n",
      "9555.91904426\n",
      "12261.3922371\n",
      "8815.59452786\n",
      "11669.3024454\n",
      "13425.2498495\n",
      "9163.69888597\n",
      "8758.48702859\n",
      "8115.40535645\n",
      "8672.63421665\n",
      "11312.6588194\n",
      "8831.2001669\n",
      "9336.74834326\n",
      "11554.3184024\n",
      "9333.73153537\n",
      "10338.3436771\n",
      "6786.33436145\n",
      "10277.5719825\n",
      "7240.27211287\n",
      "8319.99585533\n",
      "6601.82241746\n",
      "11068.1434267\n",
      "11291.8717531\n",
      "10855.4752439\n",
      "9820.09275769\n",
      "10542.5565189\n",
      "9425.35680076\n"
     ]
    }
   ],
   "source": [
    "for boid in model.schedule.agents:\n",
    "    v = np.linalg.norm(boid.velocity)\n",
    "    print(v)"
   ]
  },
  {
   "cell_type": "code",
   "execution_count": null,
   "metadata": {
    "collapsed": true
   },
   "outputs": [],
   "source": []
  }
 ],
 "metadata": {
  "kernelspec": {
   "display_name": "Python 3",
   "language": "python",
   "name": "python3"
  },
  "language_info": {
   "codemirror_mode": {
    "name": "ipython",
    "version": 3
   },
   "file_extension": ".py",
   "mimetype": "text/x-python",
   "name": "python",
   "nbconvert_exporter": "python",
   "pygments_lexer": "ipython3",
   "version": "3.4.2"
  }
 },
 "nbformat": 4,
 "nbformat_minor": 0
}
